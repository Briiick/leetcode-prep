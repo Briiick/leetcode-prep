{
    "cells": [
        {
            "cell_type": "markdown",
            "source": [
                "Group Anagrams (medium) https://leetcode.com/problems/group-anagrams/"
            ],
            "metadata": {}
        },
        {
            "cell_type": "code",
            "execution_count": null,
            "source": [
                "class Solution:\n",
                "    def groupAnagrams(self, strs: List[str]) -> List[List[str]]:\n",
                "        # create a dictionary\n",
                "        d = {}\n",
                "        # iterate through the strings\n",
                "        for w in strs:\n",
                "            # create a key for the string.\n",
                "            # sorted on a string breaks down into letters.\n",
                "            # tuple keeps organisation.\n",
                "            key = tuple(sorted(w))\n",
                "            # then use tuples as hash for dict.\n",
                "            # fill dictionary with blanks, and add on nested words\n",
                "            d[key] = d.get(key, []) + [w]\n",
                "        # return a list of just the values.\n",
                "        return list(d.values())"
            ],
            "outputs": [],
            "metadata": {}
        },
        {
            "cell_type": "markdown",
            "source": [
                "## Notes\n",
                "\n",
                "sorted() on a string separates and rearranged the letters into alphabetical order.\n",
                "\n",
                "You can only use immutable types as a key in hash maps in Python, hence why we use a tuple for a dictionary key.\n",
                "\n",
                ".get() method allows you to obtain the value of the key in a dict. Optional second argument is the default."
            ],
            "metadata": {}
        }
    ],
    "metadata": {
        "orig_nbformat": 4,
        "language_info": {
            "name": "python",
            "version": "3.8.5",
            "mimetype": "text/x-python",
            "codemirror_mode": {
                "name": "ipython",
                "version": 3
            },
            "pygments_lexer": "ipython3",
            "nbconvert_exporter": "python",
            "file_extension": ".py"
        },
        "kernelspec": {
            "name": "python3",
            "display_name": "Python 3.8.5 64-bit ('base': conda)"
        },
        "interpreter": {
            "hash": "f85c0ae1067a86ad6a96b144378883e79fd1516474b579ba33ee3a7084540002"
        }
    },
    "nbformat": 4,
    "nbformat_minor": 2
}
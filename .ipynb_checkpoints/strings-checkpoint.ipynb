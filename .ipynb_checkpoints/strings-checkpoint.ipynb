{
 "cells": [
  {
   "cell_type": "markdown",
   "metadata": {},
   "source": [
    "#### Group Anagrams (medium) - https://leetcode.com/problems/group-anagrams/"
   ]
  },
  {
   "cell_type": "code",
   "execution_count": 62,
   "metadata": {},
   "outputs": [],
   "source": [
    "def groupAnagrams(strs):\n",
    "    # create a dictionary\n",
    "    d = {}\n",
    "    # iterate through the strings\n",
    "    for w in strs:\n",
    "        # create a key for the string.\n",
    "        # sorted on a string breaks down into letters.\n",
    "        # tuple keeps organisation.x\n",
    "        key = tuple(sorted(w))\n",
    "        # then use tuples as hash for dict.\n",
    "        # fill dictionary with blanks, and add on nested words\n",
    "        d[key] = d.get(key, []) + [w]\n",
    "    # return a list of just the values.\n",
    "    return list(d.values())"
   ]
  },
  {
   "cell_type": "markdown",
   "metadata": {},
   "source": [
    "#### Longest Substring Without Repeating Characters (medium) - https://leetcode.com/problems/longest-substring-without-repeating-characters/"
   ]
  },
  {
   "cell_type": "code",
   "execution_count": 63,
   "metadata": {},
   "outputs": [],
   "source": [
    "def lengthOfLongestSubstring(str):\n",
    "    # initialize variables to look after where we are in string\n",
    "    start = maxlength = 0\n",
    "\n",
    "    # create a dictionary that will store if we have seen a letter or not\n",
    "    usedletters = {}\n",
    "\n",
    "    for i, l in enumerate(s):\n",
    "        if l in usedletters and start <= usedletters[l]:\n",
    "            start = usedletters[l] + 1\n",
    "        else:\n",
    "            maxlength = max(maxlength, i - start + 1)\n",
    "\n",
    "        usedletters[l] = i\n",
    "\n",
    "    return maxlength"
   ]
  },
  {
   "cell_type": "markdown",
   "metadata": {},
   "source": [
    "- Need 3 temporary variables to find the longest substring: start, maxLength, and usedChars. \n",
    "- Start by walking through string of characters, one at a time.\n",
    "- Check if the current character is in the usedChars map, this would mean we have already seen it and have stored it's corresponding index.\n",
    "- If it's in there and the start index is <= that index, update start to the last seen duplicate's index+1. This will put the start index at just past the current value's last seen duplicate. This allows us to have the longest possible substring that does not contain duplicates.\n",
    "- If it's not in the usedChars map, we can calculate the longest substring seen so far. Just take the current index minus the start index. If that value is longer than maxLength, set maxLength to it. \n",
    "- Finally, update the usedChars map to contain the current value that we just finished processing."
   ]
  },
  {
   "cell_type": "markdown",
   "metadata": {},
   "source": [
    "#### Longest Repeating Character Replacement (medium) - https://leetcode.com/problems/longest-repeating-character-replacement/"
   ]
  },
  {
   "cell_type": "code",
   "execution_count": 59,
   "metadata": {},
   "outputs": [],
   "source": [
    "def characterReplacement(s, k):\n",
    "    \n",
    "    start = 0\n",
    "    max_repeats = 0\n",
    "    char_freq = {}\n",
    "    max_length = 0\n",
    "    \n",
    "    for i in range(len(s)):\n",
    "        current_char = s[i]\n",
    "        \n",
    "        # add to the current character we are looking at the frequency of it\n",
    "        char_freq[current_char] = char_freq.get(current_char, 0) + 1\n",
    "        \n",
    "        # update max_repeats if size of current char large in window\n",
    "        max_repeats = max(max_repeats, char_freq[current_char])\n",
    "            \n",
    "        current_length = i - start + 1\n",
    "        \n",
    "        # check number of replacements needed is less than k operations\n",
    "        if current_length - max_repeats <= k:\n",
    "            max_length = max(max_length, current_length)\n",
    "            \n",
    "        # otherwise slide the window and update the frequency of characters\n",
    "        # to reflect the new window\n",
    "        else:\n",
    "            char_freq[s[start]] -= 1\n",
    "            start += 1\n",
    "            \n",
    "        return max_length"
   ]
  },
  {
   "cell_type": "code",
   "execution_count": 60,
   "metadata": {},
   "outputs": [
    {
     "data": {
      "text/plain": [
       "13"
      ]
     },
     "execution_count": 60,
     "metadata": {},
     "output_type": "execute_result"
    }
   ],
   "source": [
    "characterReplacement(\"ABBASEABBBBBA\", 7)"
   ]
  },
  {
   "cell_type": "markdown",
   "metadata": {},
   "source": [
    "## Notes\n",
    "\n",
    "sorted() on a string separates and rearranged the letters into alphabetical order.\n",
    "\n",
    "You can only use immutable types as a key in hash maps in Python, hence why we use a tuple for a dictionary key.\n",
    "\n",
    ".get() method allows you to obtain the value of the key in a dict. Optional second argument is the default.\n",
    "--> this is an alternative to dict[key] because key needs to be in the dict, whereas get allows for default.\n",
    "\n",
    "A window method simply needs to be thought about as a start and beginning that move along the list. As they move, conditional checks occur against stored values. This allows the stored values to be updated until the end of the list is met and the maximum/minimum value is stored."
   ]
  },
  {
   "cell_type": "code",
   "execution_count": null,
   "metadata": {},
   "outputs": [],
   "source": []
  }
 ],
 "metadata": {
  "interpreter": {
   "hash": "f85c0ae1067a86ad6a96b144378883e79fd1516474b579ba33ee3a7084540002"
  },
  "kernelspec": {
   "display_name": "Python 3",
   "language": "python",
   "name": "python3"
  },
  "language_info": {
   "codemirror_mode": {
    "name": "ipython",
    "version": 3
   },
   "file_extension": ".py",
   "mimetype": "text/x-python",
   "name": "python",
   "nbconvert_exporter": "python",
   "pygments_lexer": "ipython3",
   "version": "3.8.8"
  }
 },
 "nbformat": 4,
 "nbformat_minor": 4
}

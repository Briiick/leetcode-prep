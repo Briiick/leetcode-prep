{
 "cells": [
  {
   "cell_type": "markdown",
   "id": "767e3319-e27a-43c4-8aa2-bb3e90b753ae",
   "metadata": {},
   "source": [
    "#### Sum of Two Integers (medium) - https://leetcode.com/problems/sum-of-two-integers/"
   ]
  },
  {
   "cell_type": "code",
   "execution_count": 24,
   "id": "f7ae9538-9c13-419e-869e-d244f5782e35",
   "metadata": {},
   "outputs": [],
   "source": [
    "def getSum(self, a: int, b: int) -> int:\n",
    "        list=[a,b]\n",
    "        return sum(list)"
   ]
  },
  {
   "cell_type": "markdown",
   "id": "e24db5c1-dd1e-4c0a-a706-1492437d7e7d",
   "metadata": {},
   "source": [
    "#### Number of 1 Bits (easy) - https://leetcode.com/problems/number-of-1-bits/"
   ]
  },
  {
   "cell_type": "code",
   "execution_count": 22,
   "id": "0c6c8da8-dccc-48c5-ac41-a59f297b1f61",
   "metadata": {},
   "outputs": [],
   "source": [
    "def hammingWeight(n):\n",
    "        num_str = sorted(tuple(n))\n",
    "        counter = 0\n",
    "        for i in range(len(num_str)-1, -1, -1):\n",
    "            if num_str[i] == '1':\n",
    "                counter += 1\n",
    "            else:\n",
    "                return counter"
   ]
  },
  {
   "cell_type": "code",
   "execution_count": 25,
   "id": "62bd057f-f9c8-4931-a1da-bda95c194b03",
   "metadata": {},
   "outputs": [
    {
     "data": {
      "text/plain": [
       "3"
      ]
     },
     "execution_count": 25,
     "metadata": {},
     "output_type": "execute_result"
    }
   ],
   "source": [
    "hammingWeight('00000000000000000000000000001011')"
   ]
  },
  {
   "cell_type": "code",
   "execution_count": 26,
   "id": "614cee77-69c2-42d3-a48a-78fb87382123",
   "metadata": {},
   "outputs": [],
   "source": [
    "def hammingWeight(n):\n",
    "    return bin(n).count('1')"
   ]
  },
  {
   "cell_type": "markdown",
   "id": "9207922b-766d-4f07-aa1b-0beeb345a72f",
   "metadata": {},
   "source": []
  }
 ],
 "metadata": {
  "kernelspec": {
   "display_name": "Python 3",
   "language": "python",
   "name": "python3"
  },
  "language_info": {
   "codemirror_mode": {
    "name": "ipython",
    "version": 3
   },
   "file_extension": ".py",
   "mimetype": "text/x-python",
   "name": "python",
   "nbconvert_exporter": "python",
   "pygments_lexer": "ipython3",
   "version": "3.8.8"
  }
 },
 "nbformat": 4,
 "nbformat_minor": 5
}

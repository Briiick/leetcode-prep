{
    "cells": [
        {
            "cell_type": "markdown",
            "source": [
                "## Group Anagrams (medium) - https://leetcode.com/problems/group-anagrams/"
            ],
            "metadata": {}
        },
        {
            "cell_type": "code",
            "execution_count": null,
            "source": [
                "class Solution:\n",
                "    def groupAnagrams(self, strs: List[str]) -> List[List[str]]:\n",
                "        # create a dictionary\n",
                "        d = {}\n",
                "        # iterate through the strings\n",
                "        for w in strs:\n",
                "            # create a key for the string.\n",
                "            # sorted on a string breaks down into letters.\n",
                "            # tuple keeps organisation.x\n",
                "            key = tuple(sorted(w))\n",
                "            # then use tuples as hash for dict.\n",
                "            # fill dictionary with blanks, and add on nested words\n",
                "            d[key] = d.get(key, []) + [w]\n",
                "        # return a list of just the values.\n",
                "        return list(d.values())"
            ],
            "outputs": [],
            "metadata": {}
        },
        {
            "cell_type": "markdown",
            "source": [
                "## Longest Substring Without Repeating Characters (medium) - https://leetcode.com/problems/longest-substring-without-repeating-characters/"
            ],
            "metadata": {}
        },
        {
            "cell_type": "code",
            "execution_count": 6,
            "source": [
                "s = \"blahahhhda\"\n",
                "list_str = [char for char in s]\n",
                "\n",
                "print(list_str)"
            ],
            "outputs": [
                {
                    "output_type": "stream",
                    "name": "stdout",
                    "text": [
                        "['b', 'l', 'a', 'h', 'a', 'h', 'h', 'h', 'd', 'a']\n"
                    ]
                }
            ],
            "metadata": {}
        },
        {
            "cell_type": "markdown",
            "source": [
                "Need 3 temporary variables to find the longest substring: start, maxLength,\n",
                "and usedChars.\n",
                "Start by walking through string of characters, one at a time.\n",
                "Check if the current character is in the usedChars map, this would mean we\n",
                "have already seen it and have stored it's corresponding index.\n",
                "If it's in there and the start index is <= that index, update start\n",
                "to the last seen duplicate's index+1. This will put the start index at just\n",
                "past the current value's last seen duplicate. This allows us to have the\n",
                "longest possible substring that does not contain duplicates.\n",
                "If it's not in the usedChars map, we can calculate the longest substring\n",
                "seen so far. Just take the current index minus the start index. If that\n",
                "value is longer than maxLength, set maxLength to it.\n",
                "Finally, update the usedChars map to contain the current value that we just\n",
                "finished processing."
            ],
            "metadata": {}
        },
        {
            "cell_type": "markdown",
            "source": [
                "## Notes\n",
                "\n",
                "sorted() on a string separates and rearranged the letters into alphabetical order.\n",
                "\n",
                "You can only use immutable types as a key in hash maps in Python, hence why we use a tuple for a dictionary key.\n",
                "\n",
                ".get() method allows you to obtain the value of the key in a dict. Optional second argument is the default."
            ],
            "metadata": {}
        },
        {
            "cell_type": "markdown",
            "source": [],
            "metadata": {}
        }
    ],
    "metadata": {
        "orig_nbformat": 4,
        "language_info": {
            "name": "python",
            "version": "3.8.5",
            "mimetype": "text/x-python",
            "codemirror_mode": {
                "name": "ipython",
                "version": 3
            },
            "pygments_lexer": "ipython3",
            "nbconvert_exporter": "python",
            "file_extension": ".py"
        },
        "kernelspec": {
            "name": "python3",
            "display_name": "Python 3.8.5 64-bit ('base': conda)"
        },
        "interpreter": {
            "hash": "f85c0ae1067a86ad6a96b144378883e79fd1516474b579ba33ee3a7084540002"
        }
    },
    "nbformat": 4,
    "nbformat_minor": 2
}
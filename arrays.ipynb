{
 "cells": [
  {
   "cell_type": "markdown",
   "id": "82d7d979-71b0-464f-b6ab-03e034f28faf",
   "metadata": {},
   "source": [
    "#### Two Sum (easy) - https://leetcode.com/problems/two-sum/\n",
    "\n",
    "Given an array of integers nums and an integer target, return indices of the two numbers such that they add up to target.\n",
    "\n",
    "You may assume that each input would have exactly one solution, and you may not use the same element twice.\n",
    "\n",
    "You can return the answer in any order."
   ]
  },
  {
   "cell_type": "code",
   "execution_count": 2,
   "id": "068034ed-705d-4ad7-bb66-463492ceab66",
   "metadata": {},
   "outputs": [],
   "source": [
    "def twoSum(nums, target):\n",
    "    # we store key value pairs for number corresponding to indices\n",
    "    # and we think about this problem as a = target - b\n",
    "    d = {}\n",
    "    for i, num in enumerate(nums):\n",
    "        remainder = target - num\n",
    "        \n",
    "        if remainder in d:\n",
    "            return [i, d[remainder]]\n",
    "        else:\n",
    "            d[num] = i"
   ]
  },
  {
   "cell_type": "markdown",
   "id": "6d9a054c-1eb1-4659-99de-62101a83a0e8",
   "metadata": {},
   "source": [
    "#### Best Time to Buy and Sell Stock (easy) - https://leetcode.com/problems/best-time-to-buy-and-sell-stock/\n",
    "\n",
    "You are given an array prices where prices[i] is the price of a given stock on the ith day.\n",
    "\n",
    "You want to maximize your profit by choosing a single day to buy one stock and choosing a different day in the future to sell that stock.\n",
    "\n",
    "Return the maximum profit you can achieve from this transaction. If you cannot achieve any profit, return 0."
   ]
  },
  {
   "cell_type": "code",
   "execution_count": 4,
   "id": "78c28693-aa81-4584-9e79-d479e1bcbf84",
   "metadata": {},
   "outputs": [],
   "source": [
    "def maxProfit(prices):\n",
    "    # method is similar to before\n",
    "    # except this time we converge on the max profit by only moving forward in time\n",
    "    max_profit = 0\n",
    "    min_price = float('inf')\n",
    "    \n",
    "    for price in prices:\n",
    "        if price < min_price:\n",
    "            min_price = price\n",
    "            \n",
    "        profit = price - min_price\n",
    "        \n",
    "        if max_profit < profit:\n",
    "            max_profit = profit\n",
    "            \n",
    "    return max_profit"
   ]
  },
  {
   "cell_type": "markdown",
   "id": "897193f1-ed5a-4564-9719-b4763590fb0e",
   "metadata": {},
   "source": [
    "#### Contains Duplicate (easy) - https://leetcode.com/problems/contains-duplicate/\n",
    "\n",
    "Given an integer array nums, return true if any value appears at least twice in the array, and return false if every element is distinct."
   ]
  },
  {
   "cell_type": "code",
   "execution_count": 18,
   "id": "dcf487bf-d934-4ba3-bee5-767af364251c",
   "metadata": {},
   "outputs": [],
   "source": [
    "def containsDuplicate(nums):\n",
    "    # make dictionary \n",
    "    # check if val in\n",
    "    # return true/false\n",
    "    log = {}\n",
    "    for i in nums:\n",
    "        if i not in log:\n",
    "            log[i]= 1\n",
    "        else:\n",
    "            return True\n",
    "    return False\n",
    "\n",
    "# pythonic way\n",
    "def containsDuplicate(nums):\n",
    "    return len(nums) != len(set(nums))"
   ]
  },
  {
   "cell_type": "code",
   "execution_count": 19,
   "id": "72acec01-2503-4444-bfed-97885ee6bc3a",
   "metadata": {},
   "outputs": [
    {
     "data": {
      "text/plain": [
       "True"
      ]
     },
     "execution_count": 19,
     "metadata": {},
     "output_type": "execute_result"
    }
   ],
   "source": [
    "containsDuplicate([3,4,5,6,1,2,3])"
   ]
  },
  {
   "cell_type": "markdown",
   "id": "25d8c80c-effa-4ac3-9847-2eb056aa9aa7",
   "metadata": {},
   "source": [
    "#### Product of Array Except Self (medium) - https://leetcode.com/problems/product-of-array-except-self/\n",
    "\n",
    "Given an integer array nums, return an array answer such that answer[i] is equal to the product of all the elements of nums except nums[i].\n",
    "\n",
    "The product of any prefix or suffix of nums is guaranteed to fit in a 32-bit integer.\n",
    "\n",
    "You must write an algorithm that runs in O(n) time and without using the division operation."
   ]
  },
  {
   "cell_type": "code",
   "execution_count": 72,
   "id": "f95ec809-44ad-4b1e-8be0-c89be3a8695b",
   "metadata": {},
   "outputs": [],
   "source": [
    "# initial attempt not O(n)\n",
    "def productExceptSelf(nums):\n",
    "    \n",
    "    products = []\n",
    "    \n",
    "    for i, val in enumerate(nums):\n",
    "        num_temp = nums.copy()\n",
    "        num_temp.remove(val)\n",
    "        print(num_temp)\n",
    "        product = 1\n",
    "        for x in num_temp:\n",
    "            product = product*x\n",
    "        products.append(product)\n",
    "    return products"
   ]
  },
  {
   "cell_type": "code",
   "execution_count": 76,
   "id": "01a18db8-51b4-48ee-8330-ae3a772af800",
   "metadata": {},
   "outputs": [],
   "source": [
    "# O(n)\n",
    "def productExceptSelf(nums):\n",
    "    p = 1\n",
    "    output = []\n",
    "    \n",
    "    # running product of elements \n",
    "    for i in range(0,len(nums)):\n",
    "        output.append(p)\n",
    "        p = p * nums[i]\n",
    "    \n",
    "    # then reverse product of elements\n",
    "    p = 1\n",
    "    for i in range(len(nums)-1,-1,-1):\n",
    "        output[i] = output[i] * p\n",
    "        p = p * nums[i]\n",
    "    return output"
   ]
  },
  {
   "cell_type": "code",
   "execution_count": 77,
   "id": "3e027c01-1fed-4d4e-a9cc-61e76a09c0ce",
   "metadata": {},
   "outputs": [
    {
     "data": {
      "text/plain": [
       "[24, 12, 8, 6]"
      ]
     },
     "execution_count": 77,
     "metadata": {},
     "output_type": "execute_result"
    }
   ],
   "source": [
    "productExceptSelf([1,2,3,4])"
   ]
  },
  {
   "cell_type": "markdown",
   "id": "993914ec-0a07-4adf-8be1-c31102dda4d8",
   "metadata": {},
   "source": [
    "The tricky thing here is visualising this. Basically, we move forwards, calculating the product of all numbers.\n",
    "\n",
    "Then, we move backwards, calculating the product of all number from end to beginning.\n",
    "\n",
    "At this point, we can multiply the corresponding products together.\n",
    "\n",
    "Note, there is a 1 stored on each end of the left and right arrays. This way, everything is displaced by 1 so that we don't go until the end, and the value that we want to consider the product of all other values for, is not considered."
   ]
  },
  {
   "cell_type": "markdown",
   "id": "66023585-c4bc-4e25-be7b-16a898c9762d",
   "metadata": {},
   "source": [
    "#### Notes\n",
    "\n",
    "Need to use dictionaries better - use them as a way of storing what is already checked, and what the essential value is so that can be looked up later.\n",
    "\n",
    "Set() removes duplicates."
   ]
  },
  {
   "cell_type": "code",
   "execution_count": null,
   "id": "73e6d118-2768-4cd9-b17f-01141b94e4af",
   "metadata": {},
   "outputs": [],
   "source": []
  }
 ],
 "metadata": {
  "kernelspec": {
   "display_name": "Python 3",
   "language": "python",
   "name": "python3"
  },
  "language_info": {
   "codemirror_mode": {
    "name": "ipython",
    "version": 3
   },
   "file_extension": ".py",
   "mimetype": "text/x-python",
   "name": "python",
   "nbconvert_exporter": "python",
   "pygments_lexer": "ipython3",
   "version": "3.8.8"
  }
 },
 "nbformat": 4,
 "nbformat_minor": 5
}

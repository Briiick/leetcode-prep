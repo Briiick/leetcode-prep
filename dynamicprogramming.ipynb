{
 "cells": [
  {
   "cell_type": "markdown",
   "id": "cbd04a7b-752a-4863-98a2-427195598d8f",
   "metadata": {},
   "source": [
    "#### Climbing Stairs (easy) - https://leetcode.com/problems/climbing-stairs/\n",
    "\n",
    "You are climbing a staircase. It takes n steps to reach the top.\n",
    "\n",
    "Each time you can either climb 1 or 2 steps. In how many distinct ways can you climb to the top?"
   ]
  },
  {
   "cell_type": "code",
   "execution_count": 39,
   "id": "b061af18-64af-4a92-8e01-afa0ea8423ae",
   "metadata": {},
   "outputs": [
    {
     "data": {
      "text/plain": [
       "8"
      ]
     },
     "execution_count": 39,
     "metadata": {},
     "output_type": "execute_result"
    }
   ],
   "source": [
    "def climbStairs(n):\n",
    "    # this is a dynamic programming solution\n",
    "    # that means we use memoization\n",
    "    # it is dp because if we have 2 steps left in 100 stairs, \n",
    "    # there are only 2 ways you can go up those last 2 stairs. its all the same.\n",
    "    # we solve subproblems to converge to the solution\n",
    "    steps = [0] * (n+1)\n",
    "    steps[0] = 1\n",
    "    steps[1] = 1\n",
    "    for i in range(2, n+1):\n",
    "        steps[i] = steps[i-1] + steps[i-2]\n",
    "    return steps[n]\n",
    "\n",
    "climbStairs(5)"
   ]
  },
  {
   "cell_type": "markdown",
   "id": "27f31736-5195-41e1-af3d-c11624c5b9e8",
   "metadata": {},
   "source": [
    "#### Coin Change (medium) - https://leetcode.com/problems/coin-change/\n",
    "\n",
    "You are given an integer array coins representing coins of different denominations and an integer amount representing a total amount of money.\n",
    "\n",
    "Return the fewest number of coins that you need to make up that amount. If that amount of money cannot be made up by any combination of the coins, return -1.\n",
    "\n",
    "You may assume that you have an infinite number of each kind of coin."
   ]
  },
  {
   "cell_type": "code",
   "execution_count": 44,
   "id": "4cefa28a-06fc-4573-8ceb-cea7c9e97b04",
   "metadata": {},
   "outputs": [
    {
     "data": {
      "text/plain": [
       "-1"
      ]
     },
     "execution_count": 44,
     "metadata": {},
     "output_type": "execute_result"
    }
   ],
   "source": [
    "def coinChange(coins, amount):\n",
    "    # create dp array that contains all solutions prior to amount.\n",
    "    # set num to inf so that min will win out\n",
    "    dp = [float('inf') for i in range(amount+1)]\n",
    "    dp[0] = 0\n",
    "    \n",
    "    for i in range(1, amount+1):\n",
    "        for coin in coins:\n",
    "            if coin <= i:\n",
    "                dp[i] = min(dp[i], 1+dp[i-coin])\n",
    "    if dp[amount] == float('inf'):\n",
    "        return -1\n",
    "    return dp[amount]\n",
    "    \n",
    "    \n",
    "coinChange([1,2,3], 10)"
   ]
  },
  {
   "cell_type": "code",
   "execution_count": null,
   "id": "b9b55075-cc82-42dd-9ded-ad488e2e6e9a",
   "metadata": {},
   "outputs": [],
   "source": [
    "def coinChange(coins, amount):\n",
    "        dp = [0] + [float('inf') for i in range(amount)]\n",
    "        for i in range(1, amount+1):\n",
    "            for coin in coins:\n",
    "                if i - coin >= 0:\n",
    "                    dp[i] = min(dp[i], dp[i-coin] + 1)\n",
    "        if dp[-1] == float('inf'):\n",
    "            return -1\n",
    "        return dp[-1]"
   ]
  },
  {
   "cell_type": "markdown",
   "id": "cd1be4f5-5ae9-4418-aa7f-f96d33bf896b",
   "metadata": {},
   "source": [
    "#### Notes\n",
    "\n",
    "Dynamic programming -> memoization. It is dp because if we have 2 steps left in 100 stairs, there are only 2 ways you can go up those last 2 stairs. It's all the same. We solve subproblems to converge to the solution."
   ]
  },
  {
   "cell_type": "code",
   "execution_count": 60,
   "id": "c80ca81d-a49f-498a-82d6-d9000ffd36b8",
   "metadata": {},
   "outputs": [],
   "source": [
    "def fizzBuzz(n):\n",
    "    for x in range(1,n+1):\n",
    "        if x % 15 == 0:\n",
    "            print(\"FizzBuzz\")\n",
    "        elif x % 3 == 0:\n",
    "            print(\"Fizz\")\n",
    "        elif x % 5 == 0:\n",
    "            print(\"Buzz\")\n",
    "        else:\n",
    "            print(x)"
   ]
  },
  {
   "cell_type": "code",
   "execution_count": 61,
   "id": "e0efc65c-9c81-4c05-aafd-d33da6d113d8",
   "metadata": {},
   "outputs": [
    {
     "name": "stdout",
     "output_type": "stream",
     "text": [
      "1\n",
      "2\n",
      "Fizz\n",
      "4\n",
      "Buzz\n",
      "Fizz\n",
      "7\n",
      "8\n",
      "Fizz\n",
      "Buzz\n"
     ]
    }
   ],
   "source": [
    "fizzBuzz(10)"
   ]
  }
 ],
 "metadata": {
  "kernelspec": {
   "display_name": "Python 3",
   "language": "python",
   "name": "python3"
  },
  "language_info": {
   "codemirror_mode": {
    "name": "ipython",
    "version": 3
   },
   "file_extension": ".py",
   "mimetype": "text/x-python",
   "name": "python",
   "nbconvert_exporter": "python",
   "pygments_lexer": "ipython3",
   "version": "3.8.8"
  }
 },
 "nbformat": 4,
 "nbformat_minor": 5
}
